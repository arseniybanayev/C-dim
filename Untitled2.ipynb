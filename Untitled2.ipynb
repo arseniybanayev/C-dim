{
 "cells": [
  {
   "cell_type": "code",
   "execution_count": 1,
   "metadata": {
    "collapsed": false
   },
   "outputs": [
    {
     "data": {
      "text/html": [
       "<font style=\"color:Gray\">Expression has been evaluated and has no value</font>"
      ],
      "text/plain": [
       "Expression has been evaluated and has no value"
      ]
     },
     "execution_count": 1,
     "metadata": {},
     "output_type": "execute_result"
    }
   ],
   "source": [
    "var myString = \"this is a string!\";"
   ]
  },
  {
   "cell_type": "code",
   "execution_count": 7,
   "metadata": {
    "collapsed": false
   },
   "outputs": [
    {
     "data": {
      "text/html": [
       "<font style=\"color:Black\">a different string5</font>"
      ],
      "text/plain": [
       "a different string5"
      ]
     },
     "execution_count": 7,
     "metadata": {},
     "output_type": "execute_result"
    }
   ],
   "source": [
    "myString"
   ]
  },
  {
   "cell_type": "code",
   "execution_count": 5,
   "metadata": {
    "collapsed": false
   },
   "outputs": [
    {
     "data": {
      "text/html": [
       "<font style=\"color:Gray\">Expression has been evaluated and has no value</font>"
      ],
      "text/plain": [
       "Expression has been evaluated and has no value"
      ]
     },
     "execution_count": 5,
     "metadata": {},
     "output_type": "execute_result"
    }
   ],
   "source": [
    "myString = \"a different string\";"
   ]
  },
  {
   "cell_type": "code",
   "execution_count": 6,
   "metadata": {
    "collapsed": false
   },
   "outputs": [
    {
     "data": {
      "text/html": [
       "<font style=\"color:Gray\">Expression has been evaluated and has no value</font>"
      ],
      "text/plain": [
       "Expression has been evaluated and has no value"
      ]
     },
     "execution_count": 6,
     "metadata": {},
     "output_type": "execute_result"
    }
   ],
   "source": [
    "myString += 5;"
   ]
  },
  {
   "cell_type": "code",
   "execution_count": 8,
   "metadata": {
    "collapsed": false
   },
   "outputs": [
    {
     "data": {
      "text/html": [
       "<font style=\"color:Red\">(1,12): error CS0019: Operator &#39;-&#39; cannot be applied to operands of type &#39;string&#39; and &#39;int&#39;</font>"
      ],
      "text/plain": [
       "(1,12): error CS0019: Operator '-' cannot be applied to operands of type 'string' and 'int'"
      ]
     },
     "execution_count": 8,
     "metadata": {},
     "output_type": "execute_result"
    }
   ],
   "source": [
    "myString = myString - 4;"
   ]
  },
  {
   "cell_type": "code",
   "execution_count": 9,
   "metadata": {
    "collapsed": false
   },
   "outputs": [
    {
     "data": {
      "text/html": [
       "<font style=\"color:Red\">(1,1): error CS1525: Invalid expression term &#39;%&#39;</font>"
      ],
      "text/plain": [
       "(1,1): error CS1525: Invalid expression term '%'"
      ]
     },
     "execution_count": 9,
     "metadata": {},
     "output_type": "execute_result"
    }
   ],
   "source": [
    "%%reset"
   ]
  },
  {
   "cell_type": "code",
   "execution_count": 10,
   "metadata": {
    "collapsed": false
   },
   "outputs": [
    {
     "data": {
      "text/html": [
       "<font style=\"color:Red\">(1,2): error CS1024: Preprocessor directive expected</font>"
      ],
      "text/plain": [
       "(1,2): error CS1024: Preprocessor directive expected"
      ]
     },
     "execution_count": 10,
     "metadata": {},
     "output_type": "execute_result"
    }
   ],
   "source": [
    "#reset"
   ]
  },
  {
   "cell_type": "code",
   "execution_count": 11,
   "metadata": {
    "collapsed": false
   },
   "outputs": [
    {
     "data": {
      "text/html": [
       "<font style=\"color:Red\">(1,1): error CS1525: Invalid expression term &#39;%&#39;</font>"
      ],
      "text/plain": [
       "(1,1): error CS1525: Invalid expression term '%'"
      ]
     },
     "execution_count": 11,
     "metadata": {},
     "output_type": "execute_result"
    }
   ],
   "source": [
    "%%reset"
   ]
  },
  {
   "cell_type": "code",
   "execution_count": null,
   "metadata": {
    "collapsed": true
   },
   "outputs": [],
   "source": []
  }
 ],
 "metadata": {
  "kernelspec": {
   "display_name": "C#dim",
   "language": "csharp",
   "name": "csharp"
  },
  "language_info": {
   "name": "C#",
   "version": "0...0...1"
  }
 },
 "nbformat": 4,
 "nbformat_minor": 2
}
